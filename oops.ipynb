{
  "nbformat": 4,
  "nbformat_minor": 0,
  "metadata": {
    "colab": {
      "provenance": []
    },
    "kernelspec": {
      "name": "python3",
      "display_name": "Python 3"
    },
    "language_info": {
      "name": "python"
    }
  },
  "cells": [
    {
      "cell_type": "markdown",
      "source": [
        "Q1 - . What are the five key concepts of Object-Oriented Programming (OOP)?\n",
        "Ans- Class and Objects\n",
        "     Inheritence\n",
        "     Abstraction\n",
        "     Polymorphism\n",
        "     Encapsulation\n",
        "     "
      ],
      "metadata": {
        "id": "GONJRXiSkXv6"
      }
    },
    {
      "cell_type": "markdown",
      "source": [
        " Q 2- Write a Python class for a `Car` with attributes for `make`, `model`, and `year`. Include a method to display\n",
        "the car's information."
      ],
      "metadata": {
        "id": "ffZIvpN9lCXb"
      }
    },
    {
      "cell_type": "code",
      "source": [
        "class Car:\n",
        "  def __init__(self,make,model,year):\n",
        "    self.make = make\n",
        "    self.model = model\n",
        "    self.year = year\n",
        "  def show(self):\n",
        "    print(f\"The car {self.make} whose model number is {self.model} is made in  {self.year}\")\n",
        "\n",
        "obj = Car(\"Mahindra\",\"Scorpio\",2005)\n",
        "obj.show()\n"
      ],
      "metadata": {
        "colab": {
          "base_uri": "https://localhost:8080/",
          "height": 0
        },
        "id": "w3ab6vxflHZF",
        "outputId": "3e0f7111-eca3-404b-9dcb-f1f9429a96c1"
      },
      "execution_count": 3,
      "outputs": [
        {
          "output_type": "stream",
          "name": "stdout",
          "text": [
            "The car Mahindra whose model number is Scorpio is made in  2005\n"
          ]
        }
      ]
    },
    {
      "cell_type": "markdown",
      "source": [
        "Q -3 . Explain the difference between instance methods and class methods. Provide an example of each.\n",
        "Ans -\n",
        "\n",
        " Instance Methods:-\n",
        "       A method is referred to as an instance method if it uses instance variables. Every object has its own copy of the instance attribute.\n",
        "\n",
        "Class methods:-\n",
        "       Methods used to access or alter the class state. If we exclusively use class variables when implementing a method, we should declare that method as a class method."
      ],
      "metadata": {
        "id": "3FHM0Lf4mWRZ"
      }
    },
    {
      "cell_type": "code",
      "source": [
        "class Student:\n",
        "    total_students = 0\n",
        "    def __init__(self,name):\n",
        "      self.name = name\n",
        "      Student.total_students +=  1\n",
        "\n",
        "    def show(self):\n",
        "      print(\"This is instance method\")\n",
        "\n",
        "    @classmethod\n",
        "    def get_total_students(cls):\n",
        "      return cls.total_students\n",
        "\n",
        "obj = Student(\"Bhagat Singh\")\n",
        "obj = Student(\"Ram kumar\")\n",
        "obj.show()\n",
        "print(f\"Total number of students is {obj.get_total_students()}\")\n"
      ],
      "metadata": {
        "colab": {
          "base_uri": "https://localhost:8080/",
          "height": 0
        },
        "id": "Z1fpIFPMpoSw",
        "outputId": "69f698f3-eebd-4f23-fd38-5bcb26ab854e"
      },
      "execution_count": 8,
      "outputs": [
        {
          "output_type": "stream",
          "name": "stdout",
          "text": [
            "This is instance method\n",
            "Total number of students is 2\n"
          ]
        }
      ]
    },
    {
      "cell_type": "markdown",
      "source": [
        "Q - 4 . How does Python implement method overloading? Give an example.\n",
        " Ans - Python does not support method overloading in the traditional sense as seen in some other languages like Java or C++. Instead, Python allows you to define methods with the same name but relies on default arguments or variable-length arguments to handle different scenarios.\n",
        ""
      ],
      "metadata": {
        "id": "hNNJMpNErW1O"
      }
    },
    {
      "cell_type": "code",
      "source": [
        "class Calculator:\n",
        "    def add(self, a, b=0, c=0):\n",
        "        return a + b + c\n",
        "\n",
        "calc = Calculator()\n",
        "print(calc.add(5))\n",
        "print(calc.add(5, 10))\n",
        "print(calc.add(5, 10, 15))\n"
      ],
      "metadata": {
        "colab": {
          "base_uri": "https://localhost:8080/",
          "height": 0
        },
        "id": "TnXfgMfnuJ-e",
        "outputId": "81c51ab5-8aad-4506-d906-2a5dbcbe21c7"
      },
      "execution_count": 9,
      "outputs": [
        {
          "output_type": "stream",
          "name": "stdout",
          "text": [
            "5\n",
            "15\n",
            "30\n"
          ]
        }
      ]
    },
    {
      "cell_type": "markdown",
      "source": [
        "Q - 5 What are the three types of access modifiers in Python? How are they denoted?\n",
        "Ans - In Python, access modifiers help define the accessibility of class members  that are attributes and methods.\n",
        "\n",
        "1-Public -> No leading underscore\n",
        "          -> Accesible anyehere in the code\n",
        "\n",
        "2-Protected -> single leading underscore\n",
        "            -> accesible in class and its subclass\n",
        "\n",
        "3-Private -> Double leading underscore\n",
        "          -> Accessible only in class\n",
        "          "
      ],
      "metadata": {
        "id": "_xDI7pW6uYMU"
      }
    },
    {
      "cell_type": "code",
      "source": [
        "class Student:\n",
        "    def __init__(self,name,sec,rank):\n",
        "      self.name=name\n",
        "      self._sec = sec\n",
        "      self.__rank = rank\n",
        "\n",
        "    def show(self):\n",
        "      print(f\"Student section is {self._sec}\")\n",
        "\n",
        "class Stud(Student):\n",
        "    def show1(self):\n",
        "      print(f\"Student rank is {self._Student__rank}\")\n",
        "\n",
        "obj = Stud(\"Bhagat Singh\",\"A\",1)\n",
        "print(f\"Student name is {obj.name}\")\n",
        "obj.show()\n",
        "obj.show1()"
      ],
      "metadata": {
        "colab": {
          "base_uri": "https://localhost:8080/"
        },
        "id": "j0gOWuNtwLrk",
        "outputId": "6eeaf524-5214-4d74-ef04-f380877087cc"
      },
      "execution_count": 17,
      "outputs": [
        {
          "output_type": "stream",
          "name": "stdout",
          "text": [
            "Student name is Bhagat Singh\n",
            "Student section is A\n",
            "Student rank is 1\n"
          ]
        }
      ]
    },
    {
      "cell_type": "markdown",
      "source": [
        " 6. Describe the five types of inheritance in Python. Provide a simple example of multiple inheritance.\n",
        " Ans - Inheritance in Python allows one class to inherit attributes and methods from another, promoting code reuse and organization.\n",
        "\n",
        " 1- Single Inheritance: A class inherits from a single parent class.\n",
        "\n",
        " 2- Multilevel Inheritance:A class inherits from a class that is also a child of another class.\n",
        "\n",
        " 3- Hierarchical Inheritance:Multiple classes inherit from the same parent class.\n",
        "\n",
        " 4- Hybrid Inheritance:A combination of two or more types of inheritance.\n",
        "\n",
        " 5-Multiple Inheritance:A class can inherit from multiple parent classes."
      ],
      "metadata": {
        "id": "HQYpOEH40jB_"
      }
    },
    {
      "cell_type": "code",
      "source": [
        "class Parent1:\n",
        "    def greet(self):\n",
        "        print(\"Hello from Parent1\")\n",
        "\n",
        "class Parent2:\n",
        "    def bye(self):\n",
        "        print(\"Goodbye from Parent2\")\n",
        "\n",
        "class Child(Parent1, Parent2):\n",
        "    pass\n",
        "\n",
        "obj = Child()\n",
        "obj.greet()\n",
        "obj.bye()\n"
      ],
      "metadata": {
        "colab": {
          "base_uri": "https://localhost:8080/"
        },
        "id": "IJagvB2O1pYj",
        "outputId": "5812a218-c9ae-41b5-b73b-b5516cbf4a47"
      },
      "execution_count": 18,
      "outputs": [
        {
          "output_type": "stream",
          "name": "stdout",
          "text": [
            "Hello from Parent1\n",
            "Goodbye from Parent2\n"
          ]
        }
      ]
    },
    {
      "cell_type": "markdown",
      "source": [
        "Q- 7  7. What is the Method Resolution Order (MRO) in Python? How can you retrieve it programmatically?\n",
        "Ans - The Method Resolution Order (MRO) in Python defines the order in which base classes are searched when looking for a method. This is particularly important in cases of multiple inheritance, where a method might be defined in more than one parent class. Python uses the C3 linearization algorithm to determine the MRO, which ensures a consistent order of resolution."
      ],
      "metadata": {
        "id": "toszpsZcH3Ih"
      }
    },
    {
      "cell_type": "code",
      "source": [
        "class A:\n",
        "    pass\n",
        "class B(A):\n",
        "    pass\n",
        "class C(A):\n",
        "    pass\n",
        "class D(B, C):\n",
        "    pass\n",
        "print(D.mro())\n",
        "print(D.__mro__)\n"
      ],
      "metadata": {
        "colab": {
          "base_uri": "https://localhost:8080/"
        },
        "id": "UImLahyWIJmx",
        "outputId": "efab54b2-1bd4-4a35-f6af-b1ffb89b69ff"
      },
      "execution_count": 19,
      "outputs": [
        {
          "output_type": "stream",
          "name": "stdout",
          "text": [
            "[<class '__main__.D'>, <class '__main__.B'>, <class '__main__.C'>, <class '__main__.A'>, <class 'object'>]\n",
            "(<class '__main__.D'>, <class '__main__.B'>, <class '__main__.C'>, <class '__main__.A'>, <class 'object'>)\n"
          ]
        }
      ]
    },
    {
      "cell_type": "markdown",
      "source": [
        "Q 8 -. Create an abstract base class `Shape` with an abstract method `area()`. Then create two subclasses `Circle` and `Rectangle` that implement the `area()` method.\n",
        "Ans -"
      ],
      "metadata": {
        "id": "VEOcMDI-Iskw"
      }
    },
    {
      "cell_type": "code",
      "source": [
        "from abc import ABC, abstractmethod\n",
        "import math\n",
        "\n",
        "class Shape(ABC):\n",
        "    @abstractmethod\n",
        "    def area(self):\n",
        "        pass\n",
        "\n",
        "class Circle(Shape):\n",
        "    def __init__(self, radius):\n",
        "        self.radius = radius\n",
        "\n",
        "    def area(self):\n",
        "        return math.pi * (self.radius ** 2)\n",
        "class Rectangle(Shape):\n",
        "    def __init__(self, width, height):\n",
        "        self.width = width\n",
        "        self.height = height\n",
        "\n",
        "    def area(self):\n",
        "        return self.width * self.height\n",
        "circle = Circle(5)\n",
        "print(f\"Area of Circle is {circle.area():.2f}\")\n",
        "\n",
        "rectangle = Rectangle(4, 6)\n",
        "print(f\"Area of Rectangleis {rectangle.area()}\")\n"
      ],
      "metadata": {
        "colab": {
          "base_uri": "https://localhost:8080/"
        },
        "id": "WZiQWyZRJM0O",
        "outputId": "0c8200fe-4d41-4987-beae-9b33a253b145"
      },
      "execution_count": 20,
      "outputs": [
        {
          "output_type": "stream",
          "name": "stdout",
          "text": [
            "Area of Circle is 78.54\n",
            "Area of Rectangleis 24\n"
          ]
        }
      ]
    },
    {
      "cell_type": "markdown",
      "source": [
        "Q 9- . Demonstrate polymorphism by creating a function that can work with different shape objects to calculate and print their areas.\n",
        "\n",
        "Ans - Polymorphism in Python allows different objects to be treated as instances of the same class through a common interface. In this case, we can create a function that accepts various shape objects and calls their area() method, regardless of the specific type of shape. Below is an example that builds on the previous Shape, Circle, and Rectangle classes.\n"
      ],
      "metadata": {
        "id": "sxvK0jfhJwlT"
      }
    },
    {
      "cell_type": "code",
      "source": [
        "from abc import ABC, abstractmethod\n",
        "import math\n",
        "\n",
        "\n",
        "class Shape(ABC):\n",
        "    @abstractmethod\n",
        "    def area(self):\n",
        "        pass\n",
        "\n",
        "class Circle(Shape):\n",
        "    def __init__(self, radius):\n",
        "        self.radius = radius\n",
        "\n",
        "    def area(self):\n",
        "        return math.pi * (self.radius ** 2)\n",
        "\n",
        "\n",
        "class Rectangle(Shape):\n",
        "    def __init__(self, width, height):\n",
        "        self.width = width\n",
        "        self.height = height\n",
        "\n",
        "    def area(self):\n",
        "        return self.width * self.height\n",
        "\n",
        "def print_area(shape: Shape):\n",
        "    print(f\"Area: {shape.area():.2f}\")\n",
        "\n",
        "circle = Circle(5)\n",
        "rectangle = Rectangle(4, 6)\n",
        "\n",
        "print_area(circle)\n",
        "print_area(rectangle)\n"
      ],
      "metadata": {
        "colab": {
          "base_uri": "https://localhost:8080/"
        },
        "id": "GDk1imqCKD7u",
        "outputId": "7425ddfe-19a1-466b-d0f8-048edf1e18db"
      },
      "execution_count": 21,
      "outputs": [
        {
          "output_type": "stream",
          "name": "stdout",
          "text": [
            "Area: 78.54\n",
            "Area: 24.00\n"
          ]
        }
      ]
    },
    {
      "cell_type": "markdown",
      "source": [
        "Q 10. Implement encapsulation in a `BankAccount` class with private attributes for `balance` and `account_number`. Include methods for deposit, withdrawal, and balance inquiry.\n",
        "\n",
        "Ans - Encapsulation in Python can be implemented by defining attributes as private and providing public methods to access and modify them. Below is an implementation of a BankAccount class that encapsulates the balance and account_number attributes, along with methods for deposit, withdrawal, and balance inquiry."
      ],
      "metadata": {
        "id": "m3PkqlV7Kaeu"
      }
    },
    {
      "cell_type": "code",
      "source": [
        "class BankAccount:\n",
        "    def __init__(self, account_number, initial_balance=0):\n",
        "        self.__account_number = account_number\n",
        "        self.__balance = initial_balance\n",
        "\n",
        "    def deposit(self, amount):\n",
        "        if amount > 0:\n",
        "            self.__balance += amount\n",
        "            print(f\"Deposited: {amount:.2f}. New balance: {self.__balance:.2f}\")\n",
        "        else:\n",
        "            print(\"Deposit amount must be positive.\")\n",
        "\n",
        "    def withdraw(self, amount):\n",
        "        if 0 < amount <= self.__balance:\n",
        "            self.__balance -= amount\n",
        "            print(f\"Withdrawn: {amount:.2f}. New balance: {self.__balance:.2f}\")\n",
        "        else:\n",
        "            print(\"Withdrawal amount must be positive and cannot exceed current balance.\")\n",
        "\n",
        "    def get_balance(self):\n",
        "        return self.__balance\n",
        "\n",
        "    def get_account_number(self):\n",
        "        return self.__account_number\n",
        "account = BankAccount(\"123456789\", 1000)\n",
        "account.deposit(500)\n",
        "account.withdraw(200)\n",
        "print(f\"Account Balance: ${account.get_balance():.2f}\")\n",
        "account.withdraw(2000)\n",
        "print(f\"Account Number: {account.get_account_number()}\")\n"
      ],
      "metadata": {
        "colab": {
          "base_uri": "https://localhost:8080/"
        },
        "id": "ItB7AiOeKpqz",
        "outputId": "b4f5ecd9-76ea-4d9a-bc44-ac32205666e8"
      },
      "execution_count": 24,
      "outputs": [
        {
          "output_type": "stream",
          "name": "stdout",
          "text": [
            "Deposited: 500.00. New balance: 1500.00\n",
            "Withdrawn: 200.00. New balance: 1300.00\n",
            "Account Balance: $1300.00\n",
            "Withdrawal amount must be positive and cannot exceed current balance.\n",
            "Account Number: 123456789\n"
          ]
        }
      ]
    },
    {
      "cell_type": "markdown",
      "source": [
        "Q 11-  Write a class that overrides the `__str__` and `__add__` magic methods. What will these methods allow you to do?\n",
        "Ans - In Python, the __str__ and __add__ magic methods are special methods that allow you to customize the string representation of an object and define how objects of a class can be added together, respectively."
      ],
      "metadata": {
        "id": "m-QTOr5AQaDI"
      }
    },
    {
      "cell_type": "code",
      "source": [
        "class Point:\n",
        "    def __init__(self, x, y):\n",
        "        self.x = x\n",
        "        self.y = y\n",
        "\n",
        "    def __str__(self):\n",
        "        return f\"Point({self.x}, {self.y})\"\n",
        "\n",
        "    def __add__(self, other):\n",
        "        return Point(self.x + other.x, self.y + other.y)\n",
        "\n",
        "point1 = Point(1, 2)\n",
        "point2 = Point(3, 4)\n",
        "print(point1)\n",
        "point3 = point1 + point2\n",
        "print(point3)\n"
      ],
      "metadata": {
        "colab": {
          "base_uri": "https://localhost:8080/"
        },
        "id": "zzQAk_PjQnzH",
        "outputId": "4e934685-c37b-4970-f618-0e31014e3967"
      },
      "execution_count": 25,
      "outputs": [
        {
          "output_type": "stream",
          "name": "stdout",
          "text": [
            "Point(1, 2)\n",
            "Point(4, 6)\n"
          ]
        }
      ]
    },
    {
      "cell_type": "markdown",
      "source": [
        "Q 12 -  Create a decorator that measures and prints the execution time of a function.\n",
        "\n",
        "Ans -"
      ],
      "metadata": {
        "id": "byi2nUolR4RW"
      }
    },
    {
      "cell_type": "code",
      "source": [
        "import time\n",
        "\n",
        "def execution_time_decorator(func):\n",
        "    def wrapper(*args, **kwargs):\n",
        "        start_time = time.time()\n",
        "        result = func(*args, **kwargs)\n",
        "        end_time = time.time()\n",
        "        print(f\"Execution time of '{func.__name__}': {end_time - start_time:.6f} seconds\")\n",
        "        return result\n",
        "    return wrapper\n",
        "@execution_time_decorator\n",
        "def slow_function():\n",
        "    time.sleep(2)\n",
        "\n",
        "@execution_time_decorator\n",
        "def quick_function():\n",
        "    return sum(range(1000000))\n",
        "slow_function()\n",
        "quick_function()\n"
      ],
      "metadata": {
        "colab": {
          "base_uri": "https://localhost:8080/"
        },
        "id": "vynujeWASB-7",
        "outputId": "fd3bcfa2-d7d6-4f7f-ae23-c1b21cc82e6d"
      },
      "execution_count": 27,
      "outputs": [
        {
          "output_type": "stream",
          "name": "stdout",
          "text": [
            "Execution time of 'slow_function': 2.002326 seconds\n",
            "Execution time of 'quick_function': 0.038079 seconds\n"
          ]
        },
        {
          "output_type": "execute_result",
          "data": {
            "text/plain": [
              "499999500000"
            ]
          },
          "metadata": {},
          "execution_count": 27
        }
      ]
    },
    {
      "cell_type": "markdown",
      "source": [
        "Q  13. Explain the concept of the Diamond Problem in multiple inheritance. How does Python resolve it?\n",
        "\n",
        "Ans - The Diamond Problem occurs in multiple inheritance when a class inherits from two classes that both inherit from a common superclass. This creates a \"diamond\" shape in the inheritance hierarchy.\n",
        "\n",
        "      A\n",
        "     / \\\n",
        "    B   C\n",
        "     \\ /\n",
        "      D\n",
        "\n",
        "To handle Diamond problem in python :-\n",
        "\n",
        "Linearization: The MRO gives a linear order of classes that reflects the inheritance hierarchy. In our example, if you call a method on D, Python will look for it in D, then B, then C, and finally A.\n",
        "\n",
        "MRO Method: You can view the MRO of a class by calling the mro() method or using the __mro__ attribute"
      ],
      "metadata": {
        "id": "nVOvjaQyS5PV"
      }
    },
    {
      "cell_type": "markdown",
      "source": [
        "Q  14. Write a class method that keeps track of the number of instances created from a class."
      ],
      "metadata": {
        "id": "sW3mT68zTjM7"
      }
    },
    {
      "cell_type": "code",
      "source": [
        "class Counter:\n",
        "    instance_count = 0\n",
        "\n",
        "    def __init__(self):\n",
        "        Counter.instance_count += 1\n",
        "\n",
        "    @classmethod\n",
        "    def get_instance_count(cls):\n",
        "        return cls.instance_count\n",
        "obj1 = Counter()\n",
        "obj2 = Counter()\n",
        "obj3 = Counter()\n",
        "obj4 = Counter()\n",
        "\n",
        "print(Counter.get_instance_count())\n"
      ],
      "metadata": {
        "colab": {
          "base_uri": "https://localhost:8080/"
        },
        "id": "fkf-ikedTsUG",
        "outputId": "c994353a-8b68-4a9e-b16b-3a7929e8b697"
      },
      "execution_count": 28,
      "outputs": [
        {
          "output_type": "stream",
          "name": "stdout",
          "text": [
            "4\n"
          ]
        }
      ]
    },
    {
      "cell_type": "markdown",
      "source": [
        "Q - 15. Implement a static method in a class that checks if a given year is a leap year\n",
        "\n",
        "Ans -"
      ],
      "metadata": {
        "id": "dmtNqN_fUBox"
      }
    },
    {
      "cell_type": "code",
      "source": [
        "class LeapYearChecker:\n",
        "    @staticmethod\n",
        "    def is_leap_year(year):\n",
        "        if (year % 4 == 0 and year % 100 != 0) or (year % 400 == 0):\n",
        "            return True\n",
        "        return False\n",
        "\n",
        "year = int(input(\"Enter the year\"))\n",
        "if LeapYearChecker.is_leap_year(year):\n",
        "    print(f\"{year} is a leap year.\")\n",
        "else:\n",
        "    print(f\"{year} is not a leap year.\")\n"
      ],
      "metadata": {
        "colab": {
          "base_uri": "https://localhost:8080/"
        },
        "id": "hwAl6Y2dUKxM",
        "outputId": "f8ee96bc-003c-40f6-f03f-8fd8aed4290d"
      },
      "execution_count": 29,
      "outputs": [
        {
          "output_type": "stream",
          "name": "stdout",
          "text": [
            "Enter the year2024\n",
            "2024 is a leap year.\n"
          ]
        }
      ]
    }
  ]
}